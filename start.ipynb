{
 "cells": [
  {
   "cell_type": "markdown",
   "id": "15a90de5-8d0d-4026-950e-1dc8262b38e6",
   "metadata": {},
   "source": [
    "# Test\n",
    "\n",
    "if the environment does work!"
   ]
  },
  {
   "cell_type": "code",
   "execution_count": 1,
   "id": "27b2647b-3ecf-44b0-8084-2939cbbf3419",
   "metadata": {},
   "outputs": [
    {
     "name": "stdout",
     "output_type": "stream",
     "text": [
      "TEST ME!\n"
     ]
    }
   ],
   "source": [
    "print(\"TEST ME!\")"
   ]
  }
 ],
 "metadata": {
  "kernelspec": {
   "display_name": "Python 3 (ipykernel)",
   "language": "python",
   "name": "python3"
  },
  "language_info": {
   "codemirror_mode": {
    "name": "ipython",
    "version": 3
   },
   "file_extension": ".py",
   "mimetype": "text/x-python",
   "name": "python",
   "nbconvert_exporter": "python",
   "pygments_lexer": "ipython3",
   "version": "3.12.9"
  }
 },
 "nbformat": 4,
 "nbformat_minor": 5
}
